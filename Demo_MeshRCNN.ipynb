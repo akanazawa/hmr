{
  "nbformat": 4,
  "nbformat_minor": 0,
  "metadata": {
    "colab": {
      "name": "Demo MeshRCNN.ipynb",
      "provenance": [],
      "collapsed_sections": [],
      "toc_visible": true
    },
    "kernelspec": {
      "name": "python3",
      "display_name": "Python 3"
    },
    "accelerator": "GPU"
  },
  "cells": [
    {
      "cell_type": "markdown",
      "metadata": {
        "id": "fMWt0qkQnSpV"
      },
      "source": [
        "# Trying to use the :\n",
        "https://github.com/akanazawa/hmr\n",
        "\n",
        "Project for 3D CAd generation form the 2D photo:\n",
        "\n",
        "[![enter image description here][1]][1]\n",
        "\n",
        "\n",
        "  [1]: https://i.stack.imgur.com/0cJx6.png\n"
      ]
    },
    {
      "cell_type": "markdown",
      "metadata": {
        "id": "5paMMyPFz-yR"
      },
      "source": [
        "# Requirements and Setup\n",
        "It will take a while to install all the dependencies and expect around 20min to run this demo on this Google Colab"
      ]
    },
    {
      "cell_type": "code",
      "metadata": {
        "id": "8TH4Ws1vihMf",
        "colab": {
          "base_uri": "https://localhost:8080/"
        },
        "outputId": "06aec25f-ef2d-4cef-99ef-fc326742de29"
      },
      "source": [
        "%cd /content\n",
        "!git clone https://github.com/akanazawa/hmr\n",
        "%cd hmr\n"
      ],
      "execution_count": 1,
      "outputs": [
        {
          "output_type": "stream",
          "text": [
            "/content\n",
            "Cloning into 'hmr'...\n",
            "remote: Enumerating objects: 254, done.\u001b[K\n",
            "remote: Total 254 (delta 0), reused 0 (delta 0), pack-reused 254\u001b[K\n",
            "Receiving objects: 100% (254/254), 3.88 MiB | 31.03 MiB/s, done.\n",
            "Resolving deltas: 100% (110/110), done.\n",
            "/content/hmr\n"
          ],
          "name": "stdout"
        }
      ]
    },
    {
      "cell_type": "code",
      "metadata": {
        "id": "N3gsPdufoLqA"
      },
      "source": [
        "# https://github.com/RasaHQ/rasa/issues/3048\n",
        "# !pip2 install https://storage.googleapis.com/tensorflow/mac/cpu/tensorflow-1.12.0-py3-none-any.whl\n",
        "# !pip2 install -U rasa_core"
      ],
      "execution_count": 2,
      "outputs": []
    },
    {
      "cell_type": "markdown",
      "metadata": {
        "id": "78ApsowJJ8ti"
      },
      "source": [
        "## Trying to change the tensorflow version:\n"
      ]
    },
    {
      "cell_type": "code",
      "metadata": {
        "colab": {
          "base_uri": "https://localhost:8080/",
          "height": 1000
        },
        "id": "HVWO9Ok1mh4m",
        "outputId": "2645fa44-6017-40b6-ccf0-164ffe3dce91"
      },
      "source": [
        "!pip2 uninstall tensorflow  -y\n",
        "!pip2 install tensorflow==1.13.0rc1 --ignore-installed\n",
        "%tensorflow_version 1.x\n"
      ],
      "execution_count": 3,
      "outputs": [
        {
          "output_type": "stream",
          "text": [
            "Uninstalling tensorflow-2.1.0:\n",
            "  Successfully uninstalled tensorflow-2.1.0\n",
            "Collecting tensorflow==1.13.0rc1\n",
            "\u001b[?25l  Downloading https://files.pythonhosted.org/packages/84/f2/8f34f825f178be3bd3dc36894cddb1fb50b2925c51e05faf267cf826190b/tensorflow-1.13.0rc1-cp27-cp27mu-manylinux1_x86_64.whl (92.6MB)\n",
            "\u001b[K     |████████████████████████████████| 92.6MB 43kB/s \n",
            "\u001b[?25hCollecting grpcio>=1.8.6\n",
            "\u001b[?25l  Downloading https://files.pythonhosted.org/packages/26/09/184ca9162e6283d347e76bc24ab96a4c0e0d08a53453ab5443a4fc3f9eb3/grpcio-1.37.1-cp27-cp27mu-manylinux2010_x86_64.whl (4.0MB)\n",
            "\u001b[K     |████████████████████████████████| 4.0MB 55.5MB/s \n",
            "\u001b[?25hCollecting mock>=2.0.0\n",
            "  Downloading https://files.pythonhosted.org/packages/05/d2/f94e68be6b17f46d2c353564da56e6fb89ef09faeeff3313a046cb810ca9/mock-3.0.5-py2.py3-none-any.whl\n",
            "Collecting keras-applications>=1.0.6\n",
            "\u001b[?25l  Downloading https://files.pythonhosted.org/packages/21/56/4bcec5a8d9503a87e58e814c4e32ac2b32c37c685672c30bc8c54c6e478a/Keras_Applications-1.0.8.tar.gz (289kB)\n",
            "\u001b[K     |████████████████████████████████| 296kB 61.4MB/s \n",
            "\u001b[?25hCollecting enum34>=1.1.6\n",
            "  Downloading https://files.pythonhosted.org/packages/6f/2c/a9386903ece2ea85e9807e0e062174dc26fdce8b05f216d00491be29fad5/enum34-1.1.10-py2-none-any.whl\n",
            "Collecting protobuf>=3.6.1\n",
            "\u001b[?25l  Downloading https://files.pythonhosted.org/packages/4c/b9/7c145620d2311327de2517bf8472cdeba0735ce1112651bcc46cca0ef3f5/protobuf-3.15.8-cp27-cp27mu-manylinux1_x86_64.whl (1.0MB)\n",
            "\u001b[K     |████████████████████████████████| 1.0MB 58.1MB/s \n",
            "\u001b[?25hCollecting keras-preprocessing>=1.0.5\n",
            "\u001b[?25l  Downloading https://files.pythonhosted.org/packages/79/4c/7c3275a01e12ef9368a892926ab932b33bb13d55794881e3573482b378a7/Keras_Preprocessing-1.1.2-py2.py3-none-any.whl (42kB)\n",
            "\u001b[K     |████████████████████████████████| 51kB 9.9MB/s \n",
            "\u001b[?25hCollecting gast>=0.2.0\n",
            "  Downloading https://files.pythonhosted.org/packages/83/4a/07c7e59cef23fb147454663c3271c21da68ba2ab141427c20548ae5a8a4d/gast-0.4.0.tar.gz\n",
            "Collecting wheel\n",
            "  Downloading https://files.pythonhosted.org/packages/65/63/39d04c74222770ed1589c0eaba06c05891801219272420b40311cd60c880/wheel-0.36.2-py2.py3-none-any.whl\n",
            "Collecting absl-py>=0.1.6\n",
            "\u001b[?25l  Downloading https://files.pythonhosted.org/packages/0e/93/a9055d6c33c9b57b2dd66f1ae9af06108bb091557948f48438e7d9b54896/absl-py-0.12.0.tar.gz (112kB)\n",
            "\u001b[K     |████████████████████████████████| 112kB 58.0MB/s \n",
            "\u001b[?25hCollecting backports.weakref>=1.0rc1\n",
            "  Downloading https://files.pythonhosted.org/packages/88/ec/f598b633c3d5ffe267aaada57d961c94fdfa183c5c3ebda2b6d151943db6/backports.weakref-1.0.post1-py2.py3-none-any.whl\n",
            "Collecting six>=1.10.0\n",
            "  Downloading https://files.pythonhosted.org/packages/ee/ff/48bde5c0f013094d729fe4b0316ba2a24774b3ff1c52d924a8a4cb04078a/six-1.15.0-py2.py3-none-any.whl\n",
            "Collecting tensorflow-estimator<1.14.0rc0,>=1.13.0rc0\n",
            "\u001b[?25l  Downloading https://files.pythonhosted.org/packages/bb/48/13f49fc3fa0fdf916aa1419013bb8f2ad09674c275b4046d5ee669a46873/tensorflow_estimator-1.13.0-py2.py3-none-any.whl (367kB)\n",
            "\u001b[K     |████████████████████████████████| 368kB 57.9MB/s \n",
            "\u001b[?25hCollecting tensorboard<1.13.0,>=1.12.0\n",
            "\u001b[?25l  Downloading https://files.pythonhosted.org/packages/51/ae/9840c4837c6f54034ac942b5344396e8c3d74686a9bd29beafdf633cc221/tensorboard-1.12.2-py2-none-any.whl (3.0MB)\n",
            "\u001b[K     |████████████████████████████████| 3.1MB 59.4MB/s \n",
            "\u001b[?25hCollecting numpy>=1.13.3\n",
            "\u001b[?25l  Downloading https://files.pythonhosted.org/packages/3a/5f/47e578b3ae79e2624e205445ab77a1848acdaa2929a00eeef6b16eaaeb20/numpy-1.16.6-cp27-cp27mu-manylinux1_x86_64.whl (17.0MB)\n",
            "\u001b[K     |████████████████████████████████| 17.0MB 176kB/s \n",
            "\u001b[?25hCollecting termcolor>=1.1.0\n",
            "  Downloading https://files.pythonhosted.org/packages/8a/48/a76be51647d0eb9f10e2a4511bf3ffb8cc1e6b14e9e4fab46173aa79f981/termcolor-1.1.0.tar.gz\n",
            "Collecting astor>=0.6.0\n",
            "  Downloading https://files.pythonhosted.org/packages/c3/88/97eef84f48fa04fbd6750e62dcceafba6c63c81b7ac1420856c8dcc0a3f9/astor-0.8.1-py2.py3-none-any.whl\n",
            "Collecting futures>=2.2.0; python_version < \"3.2\"\n",
            "  Downloading https://files.pythonhosted.org/packages/d8/a6/f46ae3f1da0cd4361c344888f59ec2f5785e69c872e175a748ef6071cdb5/futures-3.3.0-py2-none-any.whl\n",
            "Collecting funcsigs>=1; python_version < \"3.3\"\n",
            "  Downloading https://files.pythonhosted.org/packages/69/cb/f5be453359271714c01b9bd06126eaf2e368f1fddfff30818754b5ac2328/funcsigs-1.0.2-py2.py3-none-any.whl\n",
            "Collecting h5py\n",
            "\u001b[?25l  Downloading https://files.pythonhosted.org/packages/12/90/3216b8f6d69905a320352a9ca6802a8e39fdb1cd93133c3d4163db8d5f19/h5py-2.10.0-cp27-cp27mu-manylinux1_x86_64.whl (2.8MB)\n",
            "\u001b[K     |████████████████████████████████| 2.8MB 40.9MB/s \n",
            "\u001b[?25hCollecting werkzeug>=0.11.10\n",
            "\u001b[?25l  Downloading https://files.pythonhosted.org/packages/cc/94/5f7079a0e00bd6863ef8f1da638721e9da21e5bacee597595b318f71d62e/Werkzeug-1.0.1-py2.py3-none-any.whl (298kB)\n",
            "\u001b[K     |████████████████████████████████| 307kB 63.0MB/s \n",
            "\u001b[?25hCollecting markdown>=2.6.8\n",
            "\u001b[?25l  Downloading https://files.pythonhosted.org/packages/c0/4e/fd492e91abdc2d2fcb70ef453064d980688762079397f779758e055f6575/Markdown-3.1.1-py2.py3-none-any.whl (87kB)\n",
            "\u001b[K     |████████████████████████████████| 92kB 14.2MB/s \n",
            "\u001b[?25hCollecting setuptools>=36\n",
            "\u001b[?25l  Downloading https://files.pythonhosted.org/packages/e1/b7/182161210a13158cd3ccc41ee19aadef54496b74f2817cc147006ec932b4/setuptools-44.1.1-py2.py3-none-any.whl (583kB)\n",
            "\u001b[K     |████████████████████████████████| 583kB 54.2MB/s \n",
            "\u001b[?25hBuilding wheels for collected packages: keras-applications, gast, absl-py, termcolor\n",
            "  Building wheel for keras-applications (setup.py) ... \u001b[?25l\u001b[?25hdone\n",
            "  Created wheel for keras-applications: filename=Keras_Applications-1.0.8-cp27-none-any.whl size=50703 sha256=5ff10b0a048f5f64e78cd09afdfac3af3198880e2832db6de5e35e750b4acd25\n",
            "  Stored in directory: /root/.cache/pip/wheels/dd/f2/5d/2689b5547f32c4e258c3b7ccbe7f1d0f2afbb84fb01e830792\n",
            "  Building wheel for gast (setup.py) ... \u001b[?25l\u001b[?25hdone\n",
            "  Created wheel for gast: filename=gast-0.4.0-cp27-none-any.whl size=9827 sha256=f527d3a4d7acab99b81df5f10003ba67707b8f92dcae1816f9eb4a3773188936\n",
            "  Stored in directory: /root/.cache/pip/wheels/22/3c/5f/1d5ffd8824bd0ce8943fbb2d6cf1568d6e91c46b7345c13a36\n",
            "  Building wheel for absl-py (setup.py) ... \u001b[?25l\u001b[?25hdone\n",
            "  Created wheel for absl-py: filename=absl_py-0.12.0-cp27-none-any.whl size=128999 sha256=1eac1723d8d2922157cbf07a68b98c1f62c13f12ee6d92c00ed0fd57946b9b41\n",
            "  Stored in directory: /root/.cache/pip/wheels/d3/22/50/1a5ba38f6a059705d35fae70fc5eb88814c03e13413a3d98b1\n",
            "  Building wheel for termcolor (setup.py) ... \u001b[?25l\u001b[?25hdone\n",
            "  Created wheel for termcolor: filename=termcolor-1.1.0-cp27-none-any.whl size=4833 sha256=0d720a6cb39393326efb4b5b0318714f0f65e1ff034914d3735dc5739e9b7a3b\n",
            "  Stored in directory: /root/.cache/pip/wheels/7c/06/54/bc84598ba1daf8f970247f550b175aaaee85f68b4b0c5ab2c6\n",
            "Successfully built keras-applications gast absl-py termcolor\n",
            "\u001b[31mERROR: fastai 0.7.0 has requirement torch<0.4, but you'll have torch 1.4.0 which is incompatible.\u001b[0m\n",
            "\u001b[31mERROR: albumentations 0.1.12 has requirement imgaug<0.2.7,>=0.2.5, but you'll have imgaug 0.2.9 which is incompatible.\u001b[0m\n",
            "Installing collected packages: enum34, six, futures, grpcio, funcsigs, mock, numpy, h5py, keras-applications, protobuf, keras-preprocessing, gast, wheel, absl-py, backports.weakref, tensorflow-estimator, werkzeug, setuptools, markdown, tensorboard, termcolor, astor, tensorflow\n",
            "Successfully installed absl-py-0.12.0 astor-0.8.1 backports.weakref-1.0.post1 enum34-1.1.10 funcsigs-1.0.2 futures-3.3.0 gast-0.4.0 grpcio-1.37.1 h5py-2.10.0 keras-applications-1.0.8 keras-preprocessing-1.1.2 markdown-3.1.1 mock-3.0.5 numpy-1.16.6 protobuf-3.15.8 setuptools-44.1.1 six-1.15.0 tensorboard-2.1.0 tensorflow-1.13.0rc1 tensorflow-estimator-1.15.0 termcolor-1.1.0 werkzeug-1.0.1 wheel-0.36.2\n"
          ],
          "name": "stdout"
        },
        {
          "output_type": "display_data",
          "data": {
            "application/vnd.colab-display-data+json": {
              "pip_warning": {
                "packages": [
                  "astor",
                  "six"
                ]
              }
            }
          },
          "metadata": {
            "tags": []
          }
        },
        {
          "output_type": "stream",
          "text": [
            "TensorFlow 1.x selected.\n",
            "Requirement already satisfied: pip>=9.0 in /usr/local/lib/python2.7/dist-packages (from -r requirements.txt (line 2)) (19.3.1)\n",
            "Requirement already satisfied: scipy in /usr/local/lib/python2.7/dist-packages (from -r requirements.txt (line 3)) (1.2.2)\n",
            "Requirement already satisfied: numpy in /usr/local/lib/python2.7/dist-packages (from -r requirements.txt (line 4)) (1.16.6)\n",
            "Collecting opendr==0.77\n",
            "\u001b[?25l  Downloading https://files.pythonhosted.org/packages/ed/d5/d833f874c8fd12c5d5289e3091b3391fa36f5fe9cb8e086263d46dd44b60/opendr-0.77.tar.gz (240kB)\n",
            "\u001b[K     |████████████████████████████████| 245kB 8.2MB/s \n",
            "\u001b[?25hRequirement already satisfied: matplotlib in /usr/local/lib/python2.7/dist-packages (from -r requirements.txt (line 6)) (2.2.4)\n",
            "Requirement already satisfied: scikit-image in /usr/local/lib/python2.7/dist-packages (from -r requirements.txt (line 7)) (0.14.3)\n",
            "Collecting deepdish>=0.3\n",
            "  Downloading https://files.pythonhosted.org/packages/6e/39/2a47c852651982bc5eb39212ac110284dd20126bdc7b49bde401a0139f5d/deepdish-0.3.6-py2.py3-none-any.whl\n",
            "Requirement already satisfied: opencv-python in /usr/local/lib/python2.7/dist-packages (from -r requirements.txt (line 9)) (3.4.5.20)\n",
            "Requirement already satisfied: absl-py in /usr/local/lib/python2.7/dist-packages (from -r requirements.txt (line 10)) (0.12.0)\n",
            "Collecting ipdb\n",
            "  Downloading https://files.pythonhosted.org/packages/a9/3d/9a7fa78cf59b95ac46663cfb760e63854dd66a267cda573c1a2f95f87c19/ipdb-0.13.7.tar.gz\n",
            "Requirement already satisfied: Cython in /usr/local/lib/python2.7/dist-packages (from opendr==0.77->-r requirements.txt (line 5)) (0.29.12)\n",
            "Collecting chumpy>=0.58\n",
            "\u001b[?25l  Downloading https://files.pythonhosted.org/packages/01/f7/865755c8bdb837841938de622e6c8b5cb6b1c933bde3bd3332f0cd4574f1/chumpy-0.70.tar.gz (50kB)\n",
            "\u001b[K     |████████████████████████████████| 51kB 9.0MB/s \n",
            "\u001b[?25hRequirement already satisfied: cycler>=0.10 in /usr/local/lib/python2.7/dist-packages (from matplotlib->-r requirements.txt (line 6)) (0.10.0)\n",
            "Requirement already satisfied: backports.functools-lru-cache in /usr/local/lib/python2.7/dist-packages (from matplotlib->-r requirements.txt (line 6)) (1.5)\n",
            "Requirement already satisfied: subprocess32 in /usr/local/lib/python2.7/dist-packages (from matplotlib->-r requirements.txt (line 6)) (3.5.4)\n",
            "Requirement already satisfied: kiwisolver>=1.0.1 in /usr/local/lib/python2.7/dist-packages (from matplotlib->-r requirements.txt (line 6)) (1.1.0)\n",
            "Requirement already satisfied: pytz in /usr/local/lib/python2.7/dist-packages (from matplotlib->-r requirements.txt (line 6)) (2018.9)\n",
            "Requirement already satisfied: six>=1.10 in /usr/local/lib/python2.7/dist-packages (from matplotlib->-r requirements.txt (line 6)) (1.15.0)\n",
            "Requirement already satisfied: python-dateutil>=2.1 in /usr/local/lib/python2.7/dist-packages (from matplotlib->-r requirements.txt (line 6)) (2.5.3)\n",
            "Requirement already satisfied: pyparsing!=2.0.4,!=2.1.2,!=2.1.6,>=2.0.1 in /usr/local/lib/python2.7/dist-packages (from matplotlib->-r requirements.txt (line 6)) (2.4.0)\n",
            "Requirement already satisfied: PyWavelets>=0.4.0 in /usr/local/lib/python2.7/dist-packages (from scikit-image->-r requirements.txt (line 7)) (1.0.3)\n",
            "Requirement already satisfied: networkx>=1.8 in /usr/local/lib/python2.7/dist-packages (from scikit-image->-r requirements.txt (line 7)) (2.2)\n",
            "Requirement already satisfied: pillow>=4.3.0 in /usr/local/lib/python2.7/dist-packages (from scikit-image->-r requirements.txt (line 7)) (4.3.0)\n",
            "Requirement already satisfied: cloudpickle>=0.2.1 in /usr/local/lib/python2.7/dist-packages (from scikit-image->-r requirements.txt (line 7)) (1.3.0)\n",
            "Requirement already satisfied: tables in /usr/local/lib/python2.7/dist-packages (from deepdish>=0.3->-r requirements.txt (line 8)) (3.4.4)\n",
            "Requirement already satisfied: enum34; python_version < \"3.4\" in /usr/local/lib/python2.7/dist-packages (from absl-py->-r requirements.txt (line 10)) (1.1.10)\n",
            "Requirement already satisfied: setuptools in /usr/local/lib/python2.7/dist-packages (from ipdb->-r requirements.txt (line 11)) (44.1.1)\n",
            "Requirement already satisfied: ipython<6.0.0,>=5.1.0 in /usr/local/lib/python2.7/dist-packages (from ipdb->-r requirements.txt (line 11)) (5.5.0)\n",
            "Collecting toml>=0.10.2\n",
            "  Downloading https://files.pythonhosted.org/packages/44/6f/7120676b6d73228c96e17f1f794d8ab046fc910d781c8d151120c3f1569e/toml-0.10.2-py2.py3-none-any.whl\n",
            "Requirement already satisfied: decorator>=4.3.0 in /usr/local/lib/python2.7/dist-packages (from networkx>=1.8->scikit-image->-r requirements.txt (line 7)) (4.4.0)\n",
            "Requirement already satisfied: olefile in /usr/local/lib/python2.7/dist-packages (from pillow>=4.3.0->scikit-image->-r requirements.txt (line 7)) (0.46)\n",
            "Requirement already satisfied: numexpr>=2.5.2 in /usr/local/lib/python2.7/dist-packages (from tables->deepdish>=0.3->-r requirements.txt (line 8)) (2.6.9)\n",
            "Requirement already satisfied: simplegeneric>0.8 in /usr/local/lib/python2.7/dist-packages (from ipython<6.0.0,>=5.1.0->ipdb->-r requirements.txt (line 11)) (0.8.1)\n",
            "Requirement already satisfied: pickleshare in /usr/local/lib/python2.7/dist-packages (from ipython<6.0.0,>=5.1.0->ipdb->-r requirements.txt (line 11)) (0.7.5)\n",
            "Requirement already satisfied: backports.shutil-get-terminal-size; python_version == \"2.7\" in /usr/local/lib/python2.7/dist-packages (from ipython<6.0.0,>=5.1.0->ipdb->-r requirements.txt (line 11)) (1.0.0)\n",
            "Requirement already satisfied: pathlib2; python_version == \"2.7\" or python_version == \"3.3\" in /usr/local/lib/python2.7/dist-packages (from ipython<6.0.0,>=5.1.0->ipdb->-r requirements.txt (line 11)) (2.3.4)\n",
            "Requirement already satisfied: pexpect; sys_platform != \"win32\" in /usr/local/lib/python2.7/dist-packages (from ipython<6.0.0,>=5.1.0->ipdb->-r requirements.txt (line 11)) (4.7.0)\n",
            "Requirement already satisfied: traitlets>=4.2 in /usr/local/lib/python2.7/dist-packages (from ipython<6.0.0,>=5.1.0->ipdb->-r requirements.txt (line 11)) (4.3.2)\n",
            "Requirement already satisfied: pygments in /usr/local/lib/python2.7/dist-packages (from ipython<6.0.0,>=5.1.0->ipdb->-r requirements.txt (line 11)) (2.1.3)\n",
            "Requirement already satisfied: prompt-toolkit<2.0.0,>=1.0.4 in /usr/local/lib/python2.7/dist-packages (from ipython<6.0.0,>=5.1.0->ipdb->-r requirements.txt (line 11)) (1.0.16)\n",
            "Requirement already satisfied: scandir; python_version < \"3.5\" in /usr/local/lib/python2.7/dist-packages (from pathlib2; python_version == \"2.7\" or python_version == \"3.3\"->ipython<6.0.0,>=5.1.0->ipdb->-r requirements.txt (line 11)) (1.10.0)\n",
            "Requirement already satisfied: ptyprocess>=0.5 in /usr/local/lib/python2.7/dist-packages (from pexpect; sys_platform != \"win32\"->ipython<6.0.0,>=5.1.0->ipdb->-r requirements.txt (line 11)) (0.6.0)\n",
            "Requirement already satisfied: ipython-genutils in /usr/local/lib/python2.7/dist-packages (from traitlets>=4.2->ipython<6.0.0,>=5.1.0->ipdb->-r requirements.txt (line 11)) (0.2.0)\n",
            "Requirement already satisfied: wcwidth in /usr/local/lib/python2.7/dist-packages (from prompt-toolkit<2.0.0,>=1.0.4->ipython<6.0.0,>=5.1.0->ipdb->-r requirements.txt (line 11)) (0.1.7)\n",
            "Building wheels for collected packages: opendr, ipdb, chumpy\n",
            "  Building wheel for opendr (setup.py) ... \u001b[?25l\u001b[?25hdone\n",
            "  Created wheel for opendr: filename=opendr-0.77-cp27-cp27mu-linux_x86_64.whl size=6628898 sha256=1d8dfa2c80100a03b20c4728e51bb5559fba7e727ce900aa806822190efb259d\n",
            "  Stored in directory: /root/.cache/pip/wheels/5c/cd/7c/8f4035d040aacef26bccc11cebfe69cc44871e020b1f5e598b\n",
            "  Building wheel for ipdb (setup.py) ... \u001b[?25l\u001b[?25hdone\n",
            "  Created wheel for ipdb: filename=ipdb-0.13.7-cp27-none-any.whl size=11431 sha256=9380cba8456d1cd3cbabebe202e0f4b1da5b7702dc28d189d0d1ecdf1d7f940b\n",
            "  Stored in directory: /root/.cache/pip/wheels/69/e2/66/bde554f8029ad1c5288f3bf427a78b18ec670182d7e670efe6\n",
            "  Building wheel for chumpy (setup.py) ... \u001b[?25l\u001b[?25hdone\n",
            "  Created wheel for chumpy: filename=chumpy-0.70-cp27-none-any.whl size=58293 sha256=c073b0ec1bfed9f33aef89f80aa8e0b917c7ea86cedcb7ee99de3ad8fa4d310d\n",
            "  Stored in directory: /root/.cache/pip/wheels/0a/73/91/b8dbef9746a907c8c008fc194a9691224ca3371b55f16f1dbd\n",
            "Successfully built opendr ipdb chumpy\n",
            "Installing collected packages: chumpy, opendr, deepdish, toml, ipdb\n",
            "Successfully installed chumpy-0.70 deepdish-0.3.6 ipdb-0.13.7 opendr-0.77 toml-0.10.2\n"
          ],
          "name": "stdout"
        }
      ]
    },
    {
      "cell_type": "code",
      "metadata": {
        "colab": {
          "base_uri": "https://localhost:8080/"
        },
        "id": "UtozJ2swov6r",
        "outputId": "f409a127-7662-4510-d39b-d6f0b66cb5f0"
      },
      "source": [
        "%tensorflow_version 1.x\n",
        "import tensorflow\n",
        "print(tensorflow.__version__)"
      ],
      "execution_count": 4,
      "outputs": [
        {
          "output_type": "stream",
          "text": [
            "1.15.2\n"
          ],
          "name": "stdout"
        }
      ]
    },
    {
      "cell_type": "markdown",
      "metadata": {
        "id": "kCaqLeQaKJ4u"
      },
      "source": [
        "### Installing the Python  Modules:"
      ]
    },
    {
      "cell_type": "code",
      "metadata": {
        "id": "YDCdbc3dKOU4"
      },
      "source": [
        "!pip2 install -r requirements.txt"
      ],
      "execution_count": null,
      "outputs": []
    },
    {
      "cell_type": "code",
      "metadata": {
        "id": "ghcTMIn_jkWy"
      },
      "source": [
        "# !pip install opendr\n",
        "# !pip2 install opendr==0.77 --no-cache-dir"
      ],
      "execution_count": 5,
      "outputs": []
    },
    {
      "cell_type": "markdown",
      "metadata": {
        "id": "wLiG5IXz0Itk"
      },
      "source": [
        "## Imports and checking installation parameters ( Rune Demo)"
      ]
    },
    {
      "cell_type": "code",
      "metadata": {
        "id": "ANyUB4bAicCY",
        "colab": {
          "base_uri": "https://localhost:8080/"
        },
        "outputId": "d7979a65-a3c6-40d5-bfba-2e5e6bfaa25b"
      },
      "source": [
        "\n",
        "!wget https://people.eecs.berkeley.edu/~kanazawa/cachedir/hmr/models.tar.gz && tar -xf models.tar.gz"
      ],
      "execution_count": 6,
      "outputs": [
        {
          "output_type": "stream",
          "text": [
            "--2021-05-01 04:05:40--  https://people.eecs.berkeley.edu/~kanazawa/cachedir/hmr/models.tar.gz\n",
            "Resolving people.eecs.berkeley.edu (people.eecs.berkeley.edu)... 128.32.244.190\n",
            "Connecting to people.eecs.berkeley.edu (people.eecs.berkeley.edu)|128.32.244.190|:443... connected.\n",
            "HTTP request sent, awaiting response... 200 OK\n",
            "Length: 385846404 (368M) [application/x-gzip]\n",
            "Saving to: ‘models.tar.gz’\n",
            "\n",
            "models.tar.gz       100%[===================>] 367.97M  6.00MB/s    in 78s     \n",
            "\n",
            "2021-05-01 04:06:58 (4.70 MB/s) - ‘models.tar.gz’ saved [385846404/385846404]\n",
            "\n"
          ],
          "name": "stdout"
        }
      ]
    },
    {
      "cell_type": "code",
      "metadata": {
        "colab": {
          "base_uri": "https://localhost:8080/"
        },
        "id": "YfzNDuFLk6yE",
        "outputId": "49ac86b8-1307-4ab4-9158-c19e68c073f4"
      },
      "source": [
        "%cd /content/hmr\n",
        "!python2 -m demo --img_path /content/hmr/data/coco1.png\n",
        "!python2 -m demo --img_path /content/hmr/data/im1954.jpg"
      ],
      "execution_count": 7,
      "outputs": [
        {
          "output_type": "stream",
          "text": [
            "/content/hmr\n",
            "Traceback (most recent call last):\n",
            "  File \"/usr/lib/python2.7/runpy.py\", line 174, in _run_module_as_main\n",
            "    \"__main__\", fname, loader, pkg_name)\n",
            "  File \"/usr/lib/python2.7/runpy.py\", line 72, in _run_code\n",
            "    exec code in run_globals\n",
            "  File \"/content/hmr/demo.py\", line 27, in <module>\n",
            "    import tensorflow as tf\n",
            "  File \"/tensorflow-1.15.2/python3.7/tensorflow/__init__.py\", line 99, in <module>\n",
            "    from tensorflow_core import *\n",
            "  File \"/tensorflow-1.15.2/python3.7/tensorflow_core/__init__.py\", line 28, in <module>\n",
            "    from tensorflow.python import pywrap_tensorflow  # pylint: disable=unused-import\n",
            "  File \"/tensorflow-1.15.2/python3.7/tensorflow/__init__.py\", line 50, in __getattr__\n",
            "    module = self._load()\n",
            "  File \"/tensorflow-1.15.2/python3.7/tensorflow/__init__.py\", line 44, in _load\n",
            "    module = _importlib.import_module(self.__name__)\n",
            "  File \"/usr/lib/python2.7/importlib/__init__.py\", line 37, in import_module\n",
            "    __import__(name)\n",
            "  File \"/tensorflow-1.15.2/python3.7/tensorflow_core/python/__init__.py\", line 49, in <module>\n",
            "    from tensorflow.python import pywrap_tensorflow\n",
            "  File \"/tensorflow-1.15.2/python3.7/tensorflow_core/python/pywrap_tensorflow.py\", line 74, in <module>\n",
            "    raise ImportError(msg)\n",
            "ImportError: Traceback (most recent call last):\n",
            "  File \"/tensorflow-1.15.2/python3.7/tensorflow_core/python/pywrap_tensorflow.py\", line 58, in <module>\n",
            "    from tensorflow.python.pywrap_tensorflow_internal import *\n",
            "  File \"/tensorflow-1.15.2/python3.7/tensorflow_core/python/pywrap_tensorflow_internal.py\", line 28, in <module>\n",
            "    _pywrap_tensorflow_internal = swig_import_helper()\n",
            "  File \"/tensorflow-1.15.2/python3.7/tensorflow_core/python/pywrap_tensorflow_internal.py\", line 24, in swig_import_helper\n",
            "    _mod = imp.load_module('_pywrap_tensorflow_internal', fp, pathname, description)\n",
            "ImportError: dynamic module does not define init function (init_pywrap_tensorflow_internal)\n",
            "\n",
            "\n",
            "Failed to load the native TensorFlow runtime.\n",
            "\n",
            "See https://www.tensorflow.org/install/errors\n",
            "\n",
            "for some common reasons and solutions.  Include the entire stack trace\n",
            "above this error message when asking for help.\n",
            "Traceback (most recent call last):\n",
            "  File \"/usr/lib/python2.7/runpy.py\", line 174, in _run_module_as_main\n",
            "    \"__main__\", fname, loader, pkg_name)\n",
            "  File \"/usr/lib/python2.7/runpy.py\", line 72, in _run_code\n",
            "    exec code in run_globals\n",
            "  File \"/content/hmr/demo.py\", line 27, in <module>\n",
            "    import tensorflow as tf\n",
            "  File \"/tensorflow-1.15.2/python3.7/tensorflow/__init__.py\", line 99, in <module>\n",
            "    from tensorflow_core import *\n",
            "  File \"/tensorflow-1.15.2/python3.7/tensorflow_core/__init__.py\", line 28, in <module>\n",
            "    from tensorflow.python import pywrap_tensorflow  # pylint: disable=unused-import\n",
            "  File \"/tensorflow-1.15.2/python3.7/tensorflow/__init__.py\", line 50, in __getattr__\n",
            "    module = self._load()\n",
            "  File \"/tensorflow-1.15.2/python3.7/tensorflow/__init__.py\", line 44, in _load\n",
            "    module = _importlib.import_module(self.__name__)\n",
            "  File \"/usr/lib/python2.7/importlib/__init__.py\", line 37, in import_module\n",
            "    __import__(name)\n",
            "  File \"/tensorflow-1.15.2/python3.7/tensorflow_core/python/__init__.py\", line 49, in <module>\n",
            "    from tensorflow.python import pywrap_tensorflow\n",
            "  File \"/tensorflow-1.15.2/python3.7/tensorflow_core/python/pywrap_tensorflow.py\", line 74, in <module>\n",
            "    raise ImportError(msg)\n",
            "ImportError: Traceback (most recent call last):\n",
            "  File \"/tensorflow-1.15.2/python3.7/tensorflow_core/python/pywrap_tensorflow.py\", line 58, in <module>\n",
            "    from tensorflow.python.pywrap_tensorflow_internal import *\n",
            "  File \"/tensorflow-1.15.2/python3.7/tensorflow_core/python/pywrap_tensorflow_internal.py\", line 28, in <module>\n",
            "    _pywrap_tensorflow_internal = swig_import_helper()\n",
            "  File \"/tensorflow-1.15.2/python3.7/tensorflow_core/python/pywrap_tensorflow_internal.py\", line 24, in swig_import_helper\n",
            "    _mod = imp.load_module('_pywrap_tensorflow_internal', fp, pathname, description)\n",
            "ImportError: dynamic module does not define init function (init_pywrap_tensorflow_internal)\n",
            "\n",
            "\n",
            "Failed to load the native TensorFlow runtime.\n",
            "\n",
            "See https://www.tensorflow.org/install/errors\n",
            "\n",
            "for some common reasons and solutions.  Include the entire stack trace\n",
            "above this error message when asking for help.\n"
          ],
          "name": "stdout"
        }
      ]
    }
  ]
}